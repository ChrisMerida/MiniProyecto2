{
 "cells": [
  {
   "cell_type": "code",
   "execution_count": 1,
   "metadata": {},
   "outputs": [],
   "source": [
    "import numpy as np\n",
    "import pandas as pd\n",
    "import pickle\n",
    "import os\n",
    "import configparser"
   ]
  },
  {
   "cell_type": "code",
   "execution_count": 2,
   "metadata": {},
   "outputs": [],
   "source": [
    "from sklearn.pipeline import Pipeline\n",
    "from feature_engine.encoding import OneHotEncoder\n",
    "from sklearn.preprocessing import StandardScaler\n",
    "from sklearn.model_selection import train_test_split"
   ]
  },
  {
   "cell_type": "code",
   "execution_count": 3,
   "metadata": {},
   "outputs": [],
   "source": [
    "def create_features_pipeline():\n",
    "    project_path = os.path.dirname(os.getcwd())  # Subir un nivel al directorio padre\n",
    "\n",
    "    data_path = os.path.join(project_path, \"data\", \"raw\", \"loan_data.csv\")\n",
    "    data = pd.read_csv(data_path)\n",
    "\n",
    "    config = configparser.ConfigParser()\n",
    "    config.read(os.path.join(project_path, \"pipeline.cfg\"))\n",
    "\n",
    "    float_to_category = config.get('CONVERSION', 'FLOAT_TO_CATEGORY').split(',')\n",
    "    float_to_category = [col.strip() for col in float_to_category]\n",
    "\n",
    "    for col in float_to_category:\n",
    "        if col in data.columns:\n",
    "            data[col] = data[col].astype('category')\n",
    "\n",
    "    ohe_vars = config.get('CATEGORICAL', 'OHE_VARS').split(',')\n",
    "    ohe_vars = [var.strip() for var in ohe_vars]\n",
    "\n",
    "    # Definir pipeline\n",
    "    loan_status_predict_model = Pipeline([\n",
    "        ('categorical_encoding_ohe', OneHotEncoder(variables=ohe_vars, drop_last=True)),  # Usar ohe_vars aquí\n",
    "        ('feature_scaling', StandardScaler())\n",
    "    ])\n",
    "\n",
    "    # Guardar pipeline en un archivo\n",
    "    artifacts_path = os.path.join(project_path, 'artifacts')\n",
    "    os.makedirs(artifacts_path, exist_ok=True)\n",
    "\n",
    "    with open(os.path.join(artifacts_path, 'pipeline.pkl'), 'wb') as f:\n",
    "        pickle.dump(loan_status_predict_model, f)\n",
    "\n",
    "    print(\"Pipeline creado y guardado correctamente.\")\n"
   ]
  },
  {
   "cell_type": "code",
   "execution_count": 4,
   "metadata": {},
   "outputs": [
    {
     "name": "stdout",
     "output_type": "stream",
     "text": [
      "Pipeline creado y guardado correctamente.\n"
     ]
    }
   ],
   "source": [
    "create_features_pipeline()"
   ]
  },
  {
   "cell_type": "code",
   "execution_count": null,
   "metadata": {},
   "outputs": [],
   "source": []
  }
 ],
 "metadata": {
  "kernelspec": {
   "display_name": "venv-miniproyecto2",
   "language": "python",
   "name": "python3"
  },
  "language_info": {
   "codemirror_mode": {
    "name": "ipython",
    "version": 3
   },
   "file_extension": ".py",
   "mimetype": "text/x-python",
   "name": "python",
   "nbconvert_exporter": "python",
   "pygments_lexer": "ipython3",
   "version": "3.10.15"
  }
 },
 "nbformat": 4,
 "nbformat_minor": 2
}
