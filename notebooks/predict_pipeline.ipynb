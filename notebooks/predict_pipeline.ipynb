{
 "cells": [
  {
   "cell_type": "code",
   "execution_count": 1,
   "metadata": {},
   "outputs": [],
   "source": [
    "import os\n",
    "import pickle\n",
    "import pandas as pd\n",
    "from datetime import datetime\n",
    "import mlflow\n",
    "import configparser"
   ]
  },
  {
   "cell_type": "code",
   "execution_count": 2,
   "metadata": {},
   "outputs": [],
   "source": [
    "def predict_pipeline():\n",
    "    # Ruta del proyecto\n",
    "    project_path = os.path.dirname(os.getcwd())  # Subir un nivel al directorio padre\n",
    "\n",
    "    # Ruta al archivo del pipeline entrenado\n",
    "    artifacts_path = os.path.join(project_path, 'artifacts')\n",
    "    fitted_pipeline_path = os.path.join(artifacts_path, 'fitted_pipeline.pkl')\n",
    "\n",
    "    if not os.path.exists(fitted_pipeline_path):\n",
    "        raise FileNotFoundError(f\"No se encontró el archivo del pipeline en '{fitted_pipeline_path}'.\")\n",
    "\n",
    "    # Cargar el pipeline entrenado\n",
    "    with open(fitted_pipeline_path, 'rb') as f:\n",
    "        fitted_pipeline = pickle.load(f)\n",
    "\n",
    "    # Leer los datos de prueba\n",
    "    data_path = os.path.join(project_path, \"data\", \"raw\", \"loan_data.csv\")\n",
    "    if not os.path.exists(data_path):\n",
    "        raise FileNotFoundError(f\"No se encontraron datos de prueba en '{data_path}'.\")\n",
    "\n",
    "    data = pd.read_csv(data_path)\n",
    "\n",
    "    # Leer configuración\n",
    "    config = configparser.ConfigParser()\n",
    "    config.read(os.path.join(project_path, \"pipeline.cfg\"))\n",
    "\n",
    "    target_var = config.get('GENERAL', 'TARGET')\n",
    "\n",
    "    if target_var not in data.columns:\n",
    "        raise ValueError(f\"La variable objetivo '{target_var}' no está presente en los datos.\")\n",
    "\n",
    "    X_test = data.drop(columns=[target_var])\n",
    "    y_test = data[target_var]  # Opcional, para validar las predicciones si es necesario\n",
    "\n",
    "    # Realizar predicciones\n",
    "    y_pred = fitted_pipeline.predict(X_test)\n",
    "\n",
    "    # Crear un DataFrame con las predicciones\n",
    "    predictions_df = pd.DataFrame({\n",
    "        'Actual': y_test,\n",
    "        'Predicted': y_pred\n",
    "    })\n",
    "\n",
    "    # Crear la ruta para guardar el archivo de predicciones\n",
    "    predictions_dir = os.path.join(project_path, \"data\", \"predictions\")\n",
    "    os.makedirs(predictions_dir, exist_ok=True)\n",
    "\n",
    "    # Generar el nombre del archivo basado en la fecha y hora\n",
    "    timestamp = datetime.now().strftime(\"%Y-%m-%d-%H-%M-%S\")\n",
    "    predictions_file = os.path.join(predictions_dir, f\"{timestamp}.csv\")\n",
    "\n",
    "    # Guardar las predicciones en un archivo .csv\n",
    "    predictions_df.to_csv(predictions_file, index=False)\n",
    "\n",
    "    # Validar que el archivo fue creado correctamente\n",
    "    if not os.path.exists(predictions_file):\n",
    "        raise FileNotFoundError(f\"No se pudo crear el archivo de predicciones en '{predictions_file}'.\")\n",
    "\n",
    "    print(f\"Predicciones guardadas en: {predictions_file}\")\n",
    "\n",
    "    # Registrar las predicciones como artefacto en MLflow\n",
    "    with mlflow.start_run(run_name=\"Predictions\"):\n",
    "        mlflow.log_artifact(predictions_file, artifact_path=\"predictions\")\n",
    "        print(f\"Archivo de predicciones registrado en MLflow.\")"
   ]
  },
  {
   "cell_type": "code",
   "execution_count": 3,
   "metadata": {},
   "outputs": [
    {
     "name": "stdout",
     "output_type": "stream",
     "text": [
      "Predicciones guardadas en: /Users/chrismerida/Documents/U/Maestria/Product Development/Proyectos/MiniProyecto2/ml-pipeline/data/predictions/2024-12-20-19-19-48.csv\n",
      "Archivo de predicciones registrado en MLflow.\n"
     ]
    }
   ],
   "source": [
    "predict_pipeline()"
   ]
  },
  {
   "cell_type": "code",
   "execution_count": null,
   "metadata": {},
   "outputs": [],
   "source": []
  }
 ],
 "metadata": {
  "kernelspec": {
   "display_name": "venv-miniproyecto2",
   "language": "python",
   "name": "python3"
  },
  "language_info": {
   "codemirror_mode": {
    "name": "ipython",
    "version": 3
   },
   "file_extension": ".py",
   "mimetype": "text/x-python",
   "name": "python",
   "nbconvert_exporter": "python",
   "pygments_lexer": "ipython3",
   "version": "3.10.15"
  }
 },
 "nbformat": 4,
 "nbformat_minor": 2
}
